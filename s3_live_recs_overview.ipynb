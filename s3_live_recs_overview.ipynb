{
 "cells": [
  {
   "cell_type": "code",
   "execution_count": 1,
   "metadata": {
    "collapsed": true
   },
   "outputs": [],
   "source": [
    "import re\n",
    "import json\n",
    "import boto3\n",
    "import requests\n",
    "from datetime import datetime, timedelta\n",
    "from random import sample\n",
    "from multiprocessing import Pool as ThreadPool"
   ]
  },
  {
   "cell_type": "code",
   "execution_count": 2,
   "metadata": {
    "collapsed": true
   },
   "outputs": [],
   "source": [
    "#Days\n",
    "age = 4\n",
    "#Hours\n",
    "offset = 1\n",
    "bucket_name = \"com-elsevier-recs-live-reviewers\""
   ]
  },
  {
   "cell_type": "code",
   "execution_count": 3,
   "metadata": {
    "collapsed": true
   },
   "outputs": [],
   "source": [
    "def get_acronym(manuscript_id):\n",
    "    base = manuscript_id.split(\"_201\")[0]\n",
    "    return base.split(\"-\")[0]\n",
    "\n",
    "def trim(manuscript_id):\n",
    "    match = re.findall(\"(_[R|V][0-9]+)\", manuscript_id)\n",
    "    if match:\n",
    "        for i in match:\n",
    "            manuscript_id = manuscript_id.replace(i, \"\")\n",
    "    return manuscript_id"
   ]
  },
  {
   "cell_type": "code",
   "execution_count": 4,
   "metadata": {
    "collapsed": true
   },
   "outputs": [],
   "source": [
    "def load_from_s3(bucket_object, prefix, days, fixed_current_time, ofs=0):\n",
    "    return [i.key.split(\"/\")[1] for i in bucket_object.objects.filter(Prefix=prefix)\n",
    "            if is_recent(i.last_modified, days, fixed_current_time, ofs)]\n",
    "\n",
    "def is_recent(lm, n, fixed_current_time, ofs=0):\n",
    "    last_modified = lm.replace(tzinfo=None)\n",
    "    age_range = fixed_current_time - timedelta(days=n)\n",
    "    if ofs == 0:\n",
    "        return age_range <= last_modified\n",
    "    else:\n",
    "        offset = timedelta(hours=ofs)\n",
    "        return age_range <= last_modified <= fixed_current_time - offset"
   ]
  },
  {
   "cell_type": "code",
   "execution_count": 5,
   "metadata": {
    "collapsed": true
   },
   "outputs": [],
   "source": [
    "def inspect(manuscript):\n",
    "    obj = s3client.get_object(\n",
    "    Bucket=bucket_name,\n",
    "    Key=\"submitted-manuscripts/\" + manuscript + \".json\"\n",
    "    )\n",
    "    return json.loads(obj['Body'].read())\n",
    "    \n",
    "\n",
    "def inspect_acronym(manuscript):\n",
    "    return inspect(manuscript)['journal']['acronym']\n",
    "\n",
    "def empty_keywords(manuscript_obj):\n",
    "    try:\n",
    "        return manuscript_obj['keywords'] == \"\"\n",
    "    except(KeyError):\n",
    "        return True\n",
    "    \n",
    "def empty_title(manuscript_obj):\n",
    "    try:\n",
    "        return manuscript_obj['title'] == \"\"\n",
    "    except(KeyError):\n",
    "        return True"
   ]
  },
  {
   "cell_type": "code",
   "execution_count": 6,
   "metadata": {
    "collapsed": true
   },
   "outputs": [],
   "source": [
    "def allowed_status(manuscript_obj):\n",
    "    allowed_statuses = [\"DECISION_PENDING\",\n",
    "                        \"IN_EDITORIALMASTER\", \n",
    "                        \"IN_EDITORIAL_PRP\", \n",
    "                        \"IN_REVIEW\", \n",
    "                        \"RDY_FOR_DCSN\", \n",
    "                        \"REVIEWER_INVITED\", \n",
    "                        \"EDITOR_INVITED\", \n",
    "                        \"NO_EDITOR_INVITED\"]\n",
    "    return manuscript_obj['status'] in set(allowed_statuses)"
   ]
  },
  {
   "cell_type": "code",
   "execution_count": 7,
   "metadata": {
    "collapsed": true
   },
   "outputs": [],
   "source": [
    "def lookupSubmission(manuscript):\n",
    "    manuscript_obj = inspect(manuscript)\n",
    "    if allowed_status(manuscript_obj):\n",
    "        if empty_keywords(manuscript_obj):\n",
    "            return (manuscript, 'EK')\n",
    "        elif empty_title(manuscript_obj):\n",
    "            return (manuscript, 'ET')\n",
    "        else:\n",
    "            return (manuscript, 'AS')\n",
    "    else:\n",
    "        return (manuscript, 'DS')"
   ]
  },
  {
   "cell_type": "code",
   "execution_count": 8,
   "metadata": {
    "collapsed": true
   },
   "outputs": [],
   "source": [
    "headers = { 'Accept': 'application/json' }\n",
    "response = requests.get('https://recs-reviewers-recommender.api.recs.d.elsevier.com/recommendations/journals',\n",
    "                        headers=headers)\n",
    "enabled_acronyms = response.json()"
   ]
  },
  {
   "cell_type": "code",
   "execution_count": 9,
   "metadata": {
    "collapsed": true
   },
   "outputs": [],
   "source": [
    "with open('data/em_acronyms.txt') as f:\n",
    "    em_acronyms = [i.strip('\\n') for i in f.readlines()]"
   ]
  },
  {
   "cell_type": "code",
   "execution_count": 10,
   "metadata": {
    "collapsed": true
   },
   "outputs": [],
   "source": [
    "#Make sure your environment has access to recs-live aws account\n",
    "s3 = boto3.resource(\"s3\")\n",
    "s3client = boto3.client('s3')\n",
    "reviewers = s3.Bucket(bucket_name)"
   ]
  },
  {
   "cell_type": "code",
   "execution_count": 11,
   "metadata": {
    "scrolled": true
   },
   "outputs": [
    {
     "name": "stdout",
     "output_type": "stream",
     "text": [
      "CPU times: user 5min 34s, sys: 6.31 s, total: 5min 41s\n",
      "Wall time: 17min 35s\n"
     ]
    }
   ],
   "source": [
    "%%time\n",
    "fixed_current_time = datetime.now()\n",
    "raw_submitted_mans = load_from_s3(reviewers, 'submitted-manuscripts', age, fixed_current_time, offset)\n",
    "raw_recommendations = load_from_s3(reviewers, 'recommendations', age, fixed_current_time)"
   ]
  },
  {
   "cell_type": "code",
   "execution_count": 12,
   "metadata": {},
   "outputs": [
    {
     "name": "stdout",
     "output_type": "stream",
     "text": [
      "CPU times: user 22 ms, sys: 1.8 ms, total: 23.8 ms\n",
      "Wall time: 22.8 ms\n"
     ]
    }
   ],
   "source": [
    "%%time\n",
    "submitted_ids = [i.split(\".json\")[0] for i in raw_submitted_mans]\n",
    "recommendation_ids = [i.split(\"_logistic\")[0] for i in raw_recommendations if \"_logistic\" in i]"
   ]
  },
  {
   "cell_type": "code",
   "execution_count": 13,
   "metadata": {},
   "outputs": [
    {
     "name": "stdout",
     "output_type": "stream",
     "text": [
      "CPU times: user 22.8 s, sys: 74 ms, total: 22.9 s\n",
      "Wall time: 22.9 s\n"
     ]
    }
   ],
   "source": [
    "%%time\n",
    "enabled_submitted_ids = [i for i in submitted_ids if get_acronym(i) in set(enabled_acronyms) - set(['ELSTRAINING1', 'ELSTRAINING2'])]\n",
    "enabled_generated_recs = [i for i in enabled_submitted_ids if trim(i) in set(recommendation_ids)]\n",
    "enabled_missing_recs = list(set(enabled_submitted_ids) - set(enabled_generated_recs))"
   ]
  },
  {
   "cell_type": "code",
   "execution_count": 14,
   "metadata": {
    "scrolled": true
   },
   "outputs": [
    {
     "name": "stdout",
     "output_type": "stream",
     "text": [
      "CPU times: user 39.3 ms, sys: 60.3 ms, total: 99.6 ms\n",
      "Wall time: 10.6 s\n"
     ]
    }
   ],
   "source": [
    "%%time\n",
    "pool = ThreadPool(20)\n",
    "lookups = pool.map(lookupSubmission, enabled_missing_recs)\n",
    "disabled_status_failures = [manuscript for manuscript, issue in lookups if issue == 'DS']\n",
    "no_keyword_failures = [manuscript for manuscript, issue in lookups if issue == 'EK']\n",
    "no_title_failures = [manuscript for manuscript, issue in lookups if issue == 'ET']\n",
    "unknown_failures = [manuscript for manuscript, issue in lookups if issue == 'AS']"
   ]
  },
  {
   "cell_type": "code",
   "execution_count": 15,
   "metadata": {},
   "outputs": [
    {
     "name": "stdout",
     "output_type": "stream",
     "text": [
      "CPU times: user 19.1 ms, sys: 9.44 ms, total: 28.5 ms\n",
      "Wall time: 483 ms\n"
     ]
    }
   ],
   "source": [
    "%%time\n",
    "truly_unknown_failures = [i for i in unknown_failures if inspect_acronym(i) in enabled_acronyms]"
   ]
  },
  {
   "cell_type": "code",
   "execution_count": 16,
   "metadata": {
    "collapsed": true
   },
   "outputs": [],
   "source": [
    "def em_filter(collection):\n",
    "    return [c for c in collection if get_acronym(c) in set(em_acronyms)]\n",
    "\n",
    "def print_report(em=False):\n",
    "    if em:\n",
    "        report = [\n",
    "        \"Over the last {} days excluding last {} hours:\".format(age, offset),\n",
    "        \"{} EM manuscripts with enabled acronyms were submitted\\\n",
    "        \".format(len(em_filter(enabled_submitted_ids)) - (len(em_filter(unknown_failures)) - len(em_filter(truly_unknown_failures)))),\n",
    "        \"\\n{} EM recommendations were made\\\n",
    "        \".format(len(em_filter(enabled_generated_recs))),\n",
    "        \"{} EM recommendations were rejected because of ineligible status\\\n",
    "        \".format(len(em_filter(disabled_status_failures))),\n",
    "        \"{} EM recommendations were rejected because of no keywords\\\n",
    "        \".format(len(em_filter(no_keyword_failures))),\n",
    "        \"{} EM recommendations were rejected because of no title\\\n",
    "        \".format(len(em_filter(no_title_failures))),\n",
    "        \"{} EM recommendations were missing due to other issues\\\n",
    "        \".format(len(em_filter(truly_unknown_failures)))\n",
    "        ]\n",
    "    else:\n",
    "        report = [\n",
    "        \"Over the last {} days excluding last {} hours:\".format(age, offset),\n",
    "        \"{} manuscripts with enabled acronyms were submitted\\\n",
    "        \".format(len(enabled_submitted_ids) - (len(unknown_failures) - len(truly_unknown_failures))),\n",
    "        \"\\n{} recommendations were made\\\n",
    "        \".format(len(enabled_generated_recs)),\n",
    "        \"{} recommendations were rejected because of ineligible status\\\n",
    "        \".format(len(disabled_status_failures)),\n",
    "        \"{} recommendations were rejected because of no keywords\\\n",
    "        \".format(len(no_keyword_failures)),\n",
    "        \"{} recommendations were rejected because of no title\\\n",
    "        \".format(len(no_title_failures)),\n",
    "        \"{} recommendations were missing due to other issues\\\n",
    "        \".format(len(truly_unknown_failures))\n",
    "        ]\n",
    "    for line in report:\n",
    "        print(line)"
   ]
  },
  {
   "cell_type": "markdown",
   "metadata": {},
   "source": [
    "### Overall State"
   ]
  },
  {
   "cell_type": "code",
   "execution_count": 17,
   "metadata": {
    "scrolled": false
   },
   "outputs": [
    {
     "name": "stdout",
     "output_type": "stream",
     "text": [
      "Over the last 4 days excluding last 1 hours:\n",
      "17126 manuscripts with enabled acronyms were submitted        \n",
      "\n",
      "15918 recommendations were made        \n",
      "1 recommendations were rejected because of ineligible status        \n",
      "1206 recommendations were rejected because of no keywords        \n",
      "0 recommendations were rejected because of no title        \n",
      "1 recommendations were missing due to other issues        \n"
     ]
    }
   ],
   "source": [
    "print_report()"
   ]
  },
  {
   "cell_type": "markdown",
   "metadata": {},
   "source": [
    "### EM State"
   ]
  },
  {
   "cell_type": "code",
   "execution_count": 18,
   "metadata": {
    "scrolled": true
   },
   "outputs": [
    {
     "name": "stdout",
     "output_type": "stream",
     "text": [
      "Over the last 4 days excluding last 1 hours:\n",
      "12348 EM manuscripts with enabled acronyms were submitted        \n",
      "\n",
      "11448 EM recommendations were made        \n",
      "0 EM recommendations were rejected because of ineligible status        \n",
      "899 EM recommendations were rejected because of no keywords        \n",
      "0 EM recommendations were rejected because of no title        \n",
      "1 EM recommendations were missing due to other issues        \n"
     ]
    }
   ],
   "source": [
    "print_report(em=True)"
   ]
  },
  {
   "cell_type": "markdown",
   "metadata": {},
   "source": [
    "### Manuscripts for failed recommendations with enabled acronyms"
   ]
  },
  {
   "cell_type": "code",
   "execution_count": 19,
   "metadata": {
    "scrolled": true
   },
   "outputs": [
    {
     "name": "stdout",
     "output_type": "stream",
     "text": [
      "ELSTRAINER40-S-20-00039.json\n"
     ]
    }
   ],
   "source": [
    "for i in em_filter(truly_unknown_failures):\n",
    "    print(i + '.json')"
   ]
  },
  {
   "cell_type": "code",
   "execution_count": 20,
   "metadata": {
    "scrolled": true
   },
   "outputs": [
    {
     "name": "stdout",
     "output_type": "stream",
     "text": [
      "\"ELSTRAINER40-S-20-00039\",\n"
     ]
    }
   ],
   "source": [
    "for i in truly_unknown_failures:\n",
    "    print('\"' + i + '\",')"
   ]
  },
  {
   "cell_type": "markdown",
   "metadata": {},
   "source": [
    "### Sample of failing submissions"
   ]
  },
  {
   "cell_type": "code",
   "execution_count": 21,
   "metadata": {
    "scrolled": true
   },
   "outputs": [
    {
     "data": {
      "text/plain": [
       "['AJEM-S-20-00706.json',\n",
       " 'JVIR-S-20-00333.json',\n",
       " 'AJODO-S-20-00706.json',\n",
       " 'JVN-S-20-00056.json',\n",
       " 'AJEM-S-20-01717.json',\n",
       " 'ARAD-S-20-01027.json',\n",
       " 'IJAA-S-20-01475.json',\n",
       " 'YJOMS-S-19-02053.json',\n",
       " 'MEDCLI-S-20-00902.json',\n",
       " 'AJOG-S-20-00895.json']"
      ]
     },
     "execution_count": 21,
     "metadata": {},
     "output_type": "execute_result"
    }
   ],
   "source": [
    "no_title = 0\n",
    "no_keywords = 10\n",
    "sample([i + '.json' for i in no_title_failures], no_title) +  sample([i + '.json' for i in no_keyword_failures], no_keywords)"
   ]
  },
  {
   "cell_type": "code",
   "execution_count": 22,
   "metadata": {
    "collapsed": true
   },
   "outputs": [],
   "source": [
    "def assess_submission(manuscript_id):\n",
    "    data = inspect(manuscript_id)\n",
    "    for i in ['title', 'journal', 'keywords']:\n",
    "        if data[i] == \"\":\n",
    "            print(\"Problem with {}\".format(i))\n",
    "        else:\n",
    "            print(\"{}: {}\".format(i,data[i]))"
   ]
  }
 ],
 "metadata": {
  "kernelspec": {
   "display_name": "Python 3",
   "language": "python",
   "name": "python3"
  },
  "language_info": {
   "codemirror_mode": {
    "name": "ipython",
    "version": 3
   },
   "file_extension": ".py",
   "mimetype": "text/x-python",
   "name": "python",
   "nbconvert_exporter": "python",
   "pygments_lexer": "ipython3",
   "version": "3.6.1"
  }
 },
 "nbformat": 4,
 "nbformat_minor": 2
}
